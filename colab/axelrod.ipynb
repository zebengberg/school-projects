{
  "nbformat": 4,
  "nbformat_minor": 0,
  "metadata": {
    "colab": {
      "name": "axelrod.ipynb",
      "provenance": [],
      "collapsed_sections": [],
      "authorship_tag": "ABX9TyNom1HwyE0zlG2XAynfDqyW",
      "include_colab_link": true
    },
    "kernelspec": {
      "name": "python3",
      "display_name": "Python 3"
    }
  },
  "cells": [
    {
      "cell_type": "markdown",
      "metadata": {
        "id": "view-in-github",
        "colab_type": "text"
      },
      "source": [
        "<a href=\"https://colab.research.google.com/github/zebengberg/wasatch/blob/master/colab/axelrod.ipynb\" target=\"_parent\"><img src=\"https://colab.research.google.com/assets/colab-badge.svg\" alt=\"Open In Colab\"/></a>"
      ]
    },
    {
      "cell_type": "markdown",
      "metadata": {
        "id": "uSLLdUnH292Z"
      },
      "source": [
        "# Wasatch Python Project: Iterated Prisoner's Dilemma\n",
        "\n",
        "Instructions:\n",
        "\n",
        "- To run a cell, press shift + enter\n",
        "- Read through the existing code, and add your in where you see _TODO_."
      ]
    },
    {
      "cell_type": "code",
      "metadata": {
        "colab": {
          "base_uri": "https://localhost:8080/"
        },
        "id": "MQ0oQsZf_vpk",
        "outputId": "8d6609fe-7fb8-46f0-f126-074c5a7002dc"
      },
      "source": [
        "# ipython jupyter-console \n",
        "!pip install -q -U PyYAML\n",
        "!pip install -q axelrod\n",
        "# you can ignore any errors"
      ],
      "execution_count": 1,
      "outputs": [
        {
          "output_type": "stream",
          "text": [
            "\u001b[K     |████████████████████████████████| 645kB 7.6MB/s \n",
            "\u001b[K     |████████████████████████████████| 194kB 7.7MB/s \n",
            "\u001b[K     |████████████████████████████████| 368kB 13.3MB/s \n",
            "\u001b[K     |████████████████████████████████| 102kB 6.6MB/s \n",
            "\u001b[31mERROR: jupyter-console 5.2.0 has requirement prompt-toolkit<2.0.0,>=1.0.0, but you'll have prompt-toolkit 3.0.16 which is incompatible.\u001b[0m\n",
            "\u001b[31mERROR: ipython 5.5.0 has requirement prompt-toolkit<2.0.0,>=1.0.4, but you'll have prompt-toolkit 3.0.16 which is incompatible.\u001b[0m\n",
            "\u001b[?25h"
          ],
          "name": "stdout"
        }
      ]
    },
    {
      "cell_type": "code",
      "metadata": {
        "id": "aWtE2cm2Bn1L"
      },
      "source": [
        "import axelrod"
      ],
      "execution_count": 2,
      "outputs": []
    },
    {
      "cell_type": "markdown",
      "metadata": {
        "id": "iYK8_sLj_a0d"
      },
      "source": [
        "## Game Basics\n",
        "\n",
        "See [here](https://axelrod.readthedocs.io/en/stable/reference/play_contexts.html)."
      ]
    },
    {
      "cell_type": "code",
      "metadata": {
        "colab": {
          "base_uri": "https://localhost:8080/"
        },
        "id": "jsgLDVVB_kQe",
        "outputId": "8c91507e-ef46-4bc9-a591-9988efb6b04e"
      },
      "source": [
        "for k, v in axelrod.game.DefaultGame.scores.items():\n",
        "  print(k, v)"
      ],
      "execution_count": 3,
      "outputs": [
        {
          "output_type": "stream",
          "text": [
            "(C, C) (3, 3)\n",
            "(D, D) (1, 1)\n",
            "(C, D) (0, 5)\n",
            "(D, C) (5, 0)\n"
          ],
          "name": "stdout"
        }
      ]
    },
    {
      "cell_type": "markdown",
      "metadata": {
        "id": "DDEvn5JQwBK7"
      },
      "source": [
        "## Strategies\n",
        "\n",
        "`axelrod` comes with a bunch of prebuilt strategies."
      ]
    },
    {
      "cell_type": "markdown",
      "metadata": {
        "id": "qpGRPGAgv1nl"
      },
      "source": [
        "## one vs one\n",
        "\n",
        "The `axelrod` package contains a `Match` class for one vs one games."
      ]
    },
    {
      "cell_type": "code",
      "metadata": {
        "colab": {
          "base_uri": "https://localhost:8080/"
        },
        "id": "GnZX_qiStrI3",
        "outputId": "e96fa8a8-1a1f-4d6d-b5d8-f9dc44c5cde4"
      },
      "source": [
        "def print_scores(match):\n",
        "  \"\"\"Print player scores and winner after running match.play().\"\"\"\n",
        "  for p, score in zip(match.players, match.final_score()):\n",
        "    print(f'{p.name}: {score}')\n",
        "  print('Winner: ', match.winner())\n",
        "\n",
        "\n",
        "# playing a match of 10 games between Cooperator and Alternator\n",
        "players = axelrod.Cooperator(), axelrod.Alternator()\n",
        "match = axelrod.Match(players, 10)\n",
        "result = match.play()\n",
        "print(result)\n",
        "print(match.sparklines())  # black = C, white = D\n",
        "print_scores(match)"
      ],
      "execution_count": 4,
      "outputs": [
        {
          "output_type": "stream",
          "text": [
            "[(C, C), (C, D), (C, C), (C, D), (C, C), (C, D), (C, C), (C, D), (C, C), (C, D)]\n",
            "██████████\n",
            "█ █ █ █ █ \n",
            "Cooperator: 15\n",
            "Alternator: 40\n",
            "Winner:  Alternator\n"
          ],
          "name": "stdout"
        }
      ]
    },
    {
      "cell_type": "code",
      "metadata": {
        "colab": {
          "base_uri": "https://localhost:8080/"
        },
        "id": "ZhwMm2fYtrS5",
        "outputId": "3dcb2971-763d-43be-9f29-ee367597441e"
      },
      "source": [
        "# playing a match of 100 games between Cooperator and Random\n",
        "players = axelrod.Cooperator(), axelrod.Random()\n",
        "match = axelrod.Match(players, 100)\n",
        "match.play()\n",
        "print(match.sparklines())\n",
        "print_scores(match)"
      ],
      "execution_count": 5,
      "outputs": [
        {
          "output_type": "stream",
          "text": [
            "████████████████████████████████████████████████████████████████████████████████████████████████████\n",
            "  █ ██ █  ██  ██  █  █  █ █    ██  █ ████  ██  █ █    ███ ████   ██  ████ █ ████████         ██ ████\n",
            "Cooperator: 153\n",
            "Random: 398\n",
            "Winner:  Random: 0.5\n"
          ],
          "name": "stdout"
        }
      ]
    },
    {
      "cell_type": "markdown",
      "metadata": {
        "id": "JJrjnLwVua70"
      },
      "source": [
        "## Tournament play\n",
        "\n",
        "We can also have many players engage in a tournament."
      ]
    },
    {
      "cell_type": "code",
      "metadata": {
        "colab": {
          "base_uri": "https://localhost:8080/",
          "height": 1000
        },
        "id": "g7jABELuuNBE",
        "outputId": "0a7f7dbf-97f1-4327-848e-21f81d4b8b0f"
      },
      "source": [
        "players = [axelrod.Cooperator(), axelrod.Defector(), axelrod.Random(), axelrod.Grudger(), axelrod.Alternator()]\n",
        "tournament = axelrod.Tournament(players)\n",
        "results = tournament.play()\n",
        "print(results.ranked_names)\n",
        "plot = axelrod.Plot(results)\n",
        "plot.boxplot().show()\n",
        "plot.payoff().show()"
      ],
      "execution_count": 6,
      "outputs": [
        {
          "output_type": "stream",
          "text": [
            "Playing matches: 100%|██████████| 15/15 [00:00<00:00, 47.91it/s]\n",
            "Analysing: 100%|██████████| 25/25 [00:00<00:00, 129.96it/s]\n"
          ],
          "name": "stderr"
        },
        {
          "output_type": "stream",
          "text": [
            "['Defector', 'Grudger', 'Random: 0.5', 'Alternator', 'Cooperator']\n"
          ],
          "name": "stdout"
        },
        {
          "output_type": "display_data",
          "data": {
            "image/png": "[encoded data removed]",
            "text/plain": [
              "<Figure size 864x432 with 1 Axes>"
            ]
          },
          "metadata": {
            "tags": [],
            "needs_background": "light"
          }
        },
        {
          "output_type": "display_data",
          "data": {
            "image/png": "[encoded data removed]",
            "text/plain": [
              "<Figure size 864x864 with 2 Axes>"
            ]
          },
          "metadata": {
            "tags": [],
            "needs_background": "light"
          }
        }
      ]
    },
    {
      "cell_type": "markdown",
      "metadata": {
        "id": "0Bc9bZCP2L7A"
      },
      "source": [
        "## Custom strategies\n",
        "\n",
        "TODO: create a custom strategy to play!\n",
        "\n",
        "Below I create an example strategy. This strategies does the following:\n",
        "- The first two choices are C\n",
        "- For the rest of the match, play C unless the previous two opponent choices were D"
      ]
    },
    {
      "cell_type": "code",
      "metadata": {
        "colab": {
          "base_uri": "https://localhost:8080/"
        },
        "id": "D196qYT_9rdc",
        "outputId": "e47569c1-739b-4803-b5d3-798abddafbf1"
      },
      "source": [
        "C, D = axelrod.Action.C, axelrod.Action.D\n",
        "\n",
        "class DoctorE(axelrod.Player):\n",
        "  name = 'Dr E'\n",
        "  def strategy(self, opponent):\n",
        "\n",
        "    # return C for the first two rounds\n",
        "    if len(self.history) < 2:\n",
        "      return C\n",
        "\n",
        "    # return D for the last round\n",
        "    elif len(self.history) == self.match_attributes['length'] - 1:\n",
        "      return D\n",
        "\n",
        "    else:\n",
        "      # if the opponent's last two plays were D, we choose D\n",
        "      if opponent.history[-1] == D and opponent.history[-2] == D:\n",
        "        return D\n",
        "      return C\n",
        "\n",
        "\n",
        "players = [DoctorE(), axelrod.Random()]\n",
        "match = axelrod.Match(players, 100)\n",
        "match.play()\n",
        "print(match.sparklines())\n",
        "print_scores(match)"
      ],
      "execution_count": 7,
      "outputs": [
        {
          "output_type": "stream",
          "text": [
            "███  ██  ███ ██    ███████████████████  █████████  █████████    ███    ██       █████████████████   \n",
            "█   █   ██  █     ███████ ██ ███ █ █   ██ ██ ██   ████ ███     ██     █        ███████████ █ ██     \n",
            "Dr E: 187\n",
            "Random: 287\n",
            "Winner:  Random: 0.5\n"
          ],
          "name": "stdout"
        }
      ]
    },
    {
      "cell_type": "code",
      "metadata": {
        "colab": {
          "base_uri": "https://localhost:8080/",
          "height": 492
        },
        "id": "Z8CCe6VQBUWE",
        "outputId": "5dc59553-4bb8-481a-9f04-ce22b7fc7243"
      },
      "source": [
        "players = [axelrod.Cooperator(), axelrod.Defector(), axelrod.Random(), axelrod.Grudger(), axelrod.Alternator(), DoctorE()]\n",
        "tournament = axelrod.Tournament(players)\n",
        "results = tournament.play()\n",
        "print(results.ranked_names)\n",
        "plot = axelrod.Plot(results)\n",
        "plot.boxplot().show()"
      ],
      "execution_count": 8,
      "outputs": [
        {
          "output_type": "stream",
          "text": [
            "Playing matches: 100%|██████████| 21/21 [00:00<00:00, 48.28it/s]\n",
            "Analysing: 100%|██████████| 25/25 [00:00<00:00, 152.09it/s]\n"
          ],
          "name": "stderr"
        },
        {
          "output_type": "stream",
          "text": [
            "['Defector', 'Grudger', 'Alternator', 'Random: 0.5', 'Dr E', 'Cooperator']\n"
          ],
          "name": "stdout"
        },
        {
          "output_type": "display_data",
          "data": {
            "image/png": "[encoded data removed]",
            "text/plain": [
              "<Figure size 864x432 with 1 Axes>"
            ]
          },
          "metadata": {
            "tags": [],
            "needs_background": "light"
          }
        }
      ]
    },
    {
      "cell_type": "code",
      "metadata": {
        "id": "1d-NGJt0HmbL"
      },
      "source": [
        ""
      ],
      "execution_count": 8,
      "outputs": []
    }
  ]
}